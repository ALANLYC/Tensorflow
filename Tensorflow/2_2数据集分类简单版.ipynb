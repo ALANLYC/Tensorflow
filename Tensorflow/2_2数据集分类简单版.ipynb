{
 "cells": [
  {
   "cell_type": "code",
   "execution_count": 2,
   "metadata": {},
   "outputs": [],
   "source": [
    "#可以对模型进行优化，优化的方法可以增加隐藏层神经网络，增加训练次数，\n",
    "#减小批次的大小，以及对权值，偏置值的改动，改动误差函数等\n",
    "import tensorflow as tf\n",
    "import tensorflow.examples.tutorials.mnist.input_data as input_data "
   ]
  },
  {
   "cell_type": "code",
   "execution_count": 3,
   "metadata": {},
   "outputs": [
    {
     "name": "stdout",
     "output_type": "stream",
     "text": [
      "WARNING:tensorflow:From <ipython-input-3-a93b1ce1a66a>:2: read_data_sets (from tensorflow.contrib.learn.python.learn.datasets.mnist) is deprecated and will be removed in a future version.\n",
      "Instructions for updating:\n",
      "Please use alternatives such as official/mnist/dataset.py from tensorflow/models.\n",
      "WARNING:tensorflow:From e:\\vs2017\\vs2017\\python36_64\\lib\\site-packages\\tensorflow\\contrib\\learn\\python\\learn\\datasets\\mnist.py:260: maybe_download (from tensorflow.contrib.learn.python.learn.datasets.base) is deprecated and will be removed in a future version.\n",
      "Instructions for updating:\n",
      "Please write your own downloading logic.\n",
      "WARNING:tensorflow:From e:\\vs2017\\vs2017\\python36_64\\lib\\site-packages\\tensorflow\\contrib\\learn\\python\\learn\\datasets\\mnist.py:262: extract_images (from tensorflow.contrib.learn.python.learn.datasets.mnist) is deprecated and will be removed in a future version.\n",
      "Instructions for updating:\n",
      "Please use tf.data to implement this functionality.\n",
      "Extracting MNIST_data\\train-images-idx3-ubyte.gz\n",
      "WARNING:tensorflow:From e:\\vs2017\\vs2017\\python36_64\\lib\\site-packages\\tensorflow\\contrib\\learn\\python\\learn\\datasets\\mnist.py:267: extract_labels (from tensorflow.contrib.learn.python.learn.datasets.mnist) is deprecated and will be removed in a future version.\n",
      "Instructions for updating:\n",
      "Please use tf.data to implement this functionality.\n",
      "Extracting MNIST_data\\train-labels-idx1-ubyte.gz\n",
      "WARNING:tensorflow:From e:\\vs2017\\vs2017\\python36_64\\lib\\site-packages\\tensorflow\\contrib\\learn\\python\\learn\\datasets\\mnist.py:110: dense_to_one_hot (from tensorflow.contrib.learn.python.learn.datasets.mnist) is deprecated and will be removed in a future version.\n",
      "Instructions for updating:\n",
      "Please use tf.one_hot on tensors.\n",
      "Extracting MNIST_data\\t10k-images-idx3-ubyte.gz\n",
      "Extracting MNIST_data\\t10k-labels-idx1-ubyte.gz\n",
      "WARNING:tensorflow:From e:\\vs2017\\vs2017\\python36_64\\lib\\site-packages\\tensorflow\\contrib\\learn\\python\\learn\\datasets\\mnist.py:290: DataSet.__init__ (from tensorflow.contrib.learn.python.learn.datasets.mnist) is deprecated and will be removed in a future version.\n",
      "Instructions for updating:\n",
      "Please use alternatives such as official/mnist/dataset.py from tensorflow/models.\n",
      "WARNING:tensorflow:From e:\\vs2017\\vs2017\\python36_64\\lib\\site-packages\\tensorflow\\python\\framework\\op_def_library.py:263: colocate_with (from tensorflow.python.framework.ops) is deprecated and will be removed in a future version.\n",
      "Instructions for updating:\n",
      "Colocations handled automatically by placer.\n",
      "Iter0,Test Accuracy0.8706\n",
      "Iter1,Test Accuracy0.888\n",
      "Iter2,Test Accuracy0.8973\n",
      "Iter3,Test Accuracy0.9023\n",
      "Iter4,Test Accuracy0.9059\n",
      "Iter5,Test Accuracy0.9064\n",
      "Iter6,Test Accuracy0.91\n",
      "Iter7,Test Accuracy0.912\n",
      "Iter8,Test Accuracy0.9115\n",
      "Iter9,Test Accuracy0.9127\n",
      "Iter10,Test Accuracy0.9144\n",
      "Iter11,Test Accuracy0.9156\n",
      "Iter12,Test Accuracy0.9158\n",
      "Iter13,Test Accuracy0.9178\n",
      "Iter14,Test Accuracy0.9178\n",
      "Iter15,Test Accuracy0.9184\n",
      "Iter16,Test Accuracy0.9182\n",
      "Iter17,Test Accuracy0.9189\n",
      "Iter18,Test Accuracy0.9196\n",
      "Iter19,Test Accuracy0.9195\n",
      "Iter20,Test Accuracy0.9196\n"
     ]
    }
   ],
   "source": [
    "#载入数据集,从网络中获取，使用one_hot来将标签变为0/1格式\n",
    "mnist = input_data.read_data_sets(\"MNIST_data\",one_hot=True)\n",
    "\n",
    "#每个批次大小\n",
    "batch_size = 50\n",
    "#计算一共有多少批次  //为整除\n",
    "n_batch = mnist.train.num_examples // batch_size\n",
    "\n",
    "#定义两个占位符\n",
    "x = tf.placeholder(tf.float32,[None,784])\n",
    "y = tf.placeholder(tf.float32,[None,10])\n",
    "\n",
    "#创建一个简单的神经网络，只包含输入层和输出层\n",
    "W = tf.Variable(tf.zeros([784,10]))  #权值\n",
    "b = tf.Variable(tf.zeros([10]))      #偏置\n",
    "prediction = tf.nn.softmax(tf.matmul(x,W)+b)  #将信号总和转换为概率值\n",
    "\n",
    "#定义二次代价函数\n",
    "loss = tf.reduce_mean(tf.square(y-prediction))\n",
    "#使用梯度下降法训练\n",
    "train_step = tf.train.GradientDescentOptimizer(0.2).minimize(loss)\n",
    "\n",
    "#初始化变量                \n",
    "init = tf.global_variables_initializer()\n",
    "                \n",
    "#比较两个参数是否相同，返回布尔型列表，用于检测训练效果,argmax函数用于求最大概率的位置（标签），返回以为张量中最大值所再位置\n",
    "correct_prediction = tf.equal(tf.argmax(y,1),tf.argmax(prediction,1))               \n",
    "#求准确率,cast将对比的布尔型转换为浮点型，然后求平均值\n",
    "accuracy = tf.reduce_mean(tf.cast(correct_prediction,tf.float32))\n",
    "                \n",
    "with tf.Session() as sess:\n",
    "    sess.run(init)\n",
    "    for epoch in range(21):  #把所有的训练21次\n",
    "        for batch in range(n_batch):\n",
    "            batch_xs,batch_ys = mnist.train.next_batch(batch_size)   #把训练集中的图片循环一次\n",
    "            sess.run(train_step,feed_dict={x:batch_xs,y:batch_ys})\n",
    "                \n",
    "        acc = sess.run(accuracy,feed_dict={x:mnist.test.images,y:mnist.test.labels})\n",
    "        print(\"Iter\" + str(epoch)+ \",Test Accuracy\" + str(acc))       "
   ]
  },
  {
   "cell_type": "code",
   "execution_count": null,
   "metadata": {},
   "outputs": [],
   "source": []
  }
 ],
 "metadata": {
  "kernelspec": {
   "display_name": "Python 3",
   "language": "python",
   "name": "python3"
  },
  "language_info": {
   "codemirror_mode": {
    "name": "ipython",
    "version": 3
   },
   "file_extension": ".py",
   "mimetype": "text/x-python",
   "name": "python",
   "nbconvert_exporter": "python",
   "pygments_lexer": "ipython3",
   "version": "3.6.6"
  }
 },
 "nbformat": 4,
 "nbformat_minor": 2
}
