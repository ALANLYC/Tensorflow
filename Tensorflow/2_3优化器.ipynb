{
 "cells": [
  {
   "cell_type": "code",
   "execution_count": 19,
   "metadata": {},
   "outputs": [
    {
     "name": "stdout",
     "output_type": "stream",
     "text": [
      "Extracting MNIST_data\\train-images-idx3-ubyte.gz\n",
      "Extracting MNIST_data\\train-labels-idx1-ubyte.gz\n",
      "Extracting MNIST_data\\t10k-images-idx3-ubyte.gz\n",
      "Extracting MNIST_data\\t10k-labels-idx1-ubyte.gz\n",
      "Iter0,Test Accuracy0.9384Train Accuracy0.9445636learning_rate0.001\n",
      "Iter1,Test Accuracy0.9528Train Accuracy0.9597818learning_rate0.00095\n",
      "Iter2,Test Accuracy0.9534Train Accuracy0.9626learning_rate0.0009025\n",
      "Iter3,Test Accuracy0.9624Train Accuracy0.9734learning_rate0.000857375\n",
      "Iter4,Test Accuracy0.9677Train Accuracy0.97845453learning_rate0.00081450626\n",
      "Iter5,Test Accuracy0.9668Train Accuracy0.97885454learning_rate0.0007737809\n",
      "Iter6,Test Accuracy0.9664Train Accuracy0.9806909learning_rate0.0007350919\n",
      "Iter7,Test Accuracy0.9698Train Accuracy0.98441815learning_rate0.0006983373\n",
      "Iter8,Test Accuracy0.9699Train Accuracy0.98358184learning_rate0.0006634204\n",
      "Iter9,Test Accuracy0.9723Train Accuracy0.9869818learning_rate0.0006302494\n",
      "Iter10,Test Accuracy0.9734Train Accuracy0.98832726learning_rate0.0005987369\n"
     ]
    }
   ],
   "source": [
    "import tensorflow as tf\n",
    "import tensorflow.examples.tutorials.mnist.input_data as input_data \n",
    "\n",
    "#载入数据集,从网络中获取，使用one_hot来将标签变为0/1格式\n",
    "mnist = input_data.read_data_sets(\"MNIST_data\",one_hot=True)\n",
    "\n",
    "#每个批次大小\n",
    "batch_size = 50\n",
    "#计算一共有多少批次  //为整除\n",
    "n_batch = mnist.train.num_examples // batch_size\n",
    "\n",
    "#定义两个占位符\n",
    "x = tf.placeholder(tf.float32,[None,784])\n",
    "y = tf.placeholder(tf.float32,[None,10])\n",
    "keep_prob = tf.placeholder(tf.float32)\n",
    "lr = tf.Variable(0.001,dtype=tf.float32)\n",
    "\n",
    "#创建一个简单的神经网络，只包含输入层和输出层\n",
    "W1 = tf.Variable(tf.truncated_normal(([784,500]),stddev=0.1))  #权值\n",
    "b1 = tf.Variable(tf.zeros([500])+0.1)      #偏置\n",
    "L1 = tf.nn.tanh(tf.matmul(x,W1)+b1)\n",
    "L1_drop = tf.nn.dropout(L1,keep_prob)\n",
    "\n",
    "#增加中间隐藏层\n",
    "W2 = tf.Variable(tf.truncated_normal(([500,100]),stddev=0.1))\n",
    "b2 = tf.Variable(tf.zeros([100])+0.1)\n",
    "L2 = tf.nn.tanh(tf.matmul(L1,W2)+b2)\n",
    "L2_drop = tf.nn.dropout(L2,keep_prob)\n",
    "\n",
    "W3 = tf.Variable(tf.truncated_normal(([100,10]),stddev=0.1))\n",
    "b3 = tf.Variable(tf.zeros([10])+0.1)\n",
    "\n",
    "prediction = tf.nn.softmax(tf.matmul(L2_drop,W3)+b3)  #将信号总和转换为概率值\n",
    "\n",
    "#使用交叉熵代价函数\n",
    "loss = tf.reduce_mean(tf.nn.softmax_cross_entropy_with_logits(labels=y,logits=prediction))\n",
    "#使用梯度下降法训练\n",
    "#train_step = tf.train.GradientDescentOptimizer(0.2).minimize(loss)\n",
    "#使用AdamOptimizer训练法\n",
    "train_step = tf.train.AdamOptimizer(lr).minimize(loss)\n",
    "\n",
    "#初始化变量                \n",
    "init = tf.global_variables_initializer()\n",
    "                \n",
    "#比较两个参数是否相同，返回布尔型列表，用于检测训练效果,argmax函数用于求最大概率的位置（标签），返回以为张量中最大值所再位置\n",
    "correct_prediction = tf.equal(tf.argmax(y,1),tf.argmax(prediction,1))               \n",
    "#求准确率,cast将对比的布尔型转换为浮点型，然后求平均值\n",
    "accuracy = tf.reduce_mean(tf.cast(correct_prediction,tf.float32))\n",
    "                \n",
    "with tf.Session() as sess:\n",
    "    sess.run(init)\n",
    "    for epoch in range(11):  #把所有的训练21次\n",
    "        sess.run(tf.assign(lr,0.001*(0.95**epoch)))\n",
    "        for batch in range(n_batch):\n",
    "            batch_xs,batch_ys = mnist.train.next_batch(batch_size)   #把训练集中的图片循环一次\n",
    "            sess.run(train_step,feed_dict={x:batch_xs,y:batch_ys,keep_prob:0.6})\n",
    "        learning_rate = sess.run(lr)      \n",
    "        test_acc = sess.run(accuracy,feed_dict={x:mnist.test.images,y:mnist.test.labels,keep_prob:0.6})\n",
    "        train_acc = sess.run(accuracy,feed_dict={x:mnist.train.images,y:mnist.train.labels,keep_prob:1.0})\n",
    "        print(\"Iter \" + str(epoch)+ \" ,Test Accuracy  \" + str(test_acc)+\"  Train Accuracy  \" + str(train_acc)+\"  learning_rate \"+str(learning_rate))             "
   ]
  },
  {
   "cell_type": "code",
   "execution_count": null,
   "metadata": {},
   "outputs": [],
   "source": []
  }
 ],
 "metadata": {
  "kernelspec": {
   "display_name": "Python 3",
   "language": "python",
   "name": "python3"
  },
  "language_info": {
   "codemirror_mode": {
    "name": "ipython",
    "version": 3
   },
   "file_extension": ".py",
   "mimetype": "text/x-python",
   "name": "python",
   "nbconvert_exporter": "python",
   "pygments_lexer": "ipython3",
   "version": "3.6.6"
  }
 },
 "nbformat": 4,
 "nbformat_minor": 2
}
